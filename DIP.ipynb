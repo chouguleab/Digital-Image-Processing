{
  "nbformat": 4,
  "nbformat_minor": 0,
  "metadata": {
    "colab": {
      "provenance": [],
      "authorship_tag": "ABX9TyO6UWHARtDz+6vHzWOwQWl4",
      "include_colab_link": true
    },
    "kernelspec": {
      "name": "python3",
      "display_name": "Python 3"
    },
    "language_info": {
      "name": "python"
    }
  },
  "cells": [
    {
      "cell_type": "markdown",
      "metadata": {
        "id": "view-in-github",
        "colab_type": "text"
      },
      "source": [
        "<a href=\"https://colab.research.google.com/github/chouguleab/Digital-Image-Processing/blob/main/DIP.ipynb\" target=\"_parent\"><img src=\"https://colab.research.google.com/assets/colab-badge.svg\" alt=\"Open In Colab\"/></a>"
      ]
    },
    {
      "cell_type": "code",
      "execution_count": null,
      "metadata": {
        "colab": {
          "base_uri": "https://localhost:8080/"
        },
        "id": "Ir3bKCPpnDiI",
        "outputId": "7278b9cc-2423-4a2b-dc29-91ca41cf5110"
      },
      "outputs": [
        {
          "output_type": "stream",
          "name": "stdout",
          "text": [
            "<class 'NoneType'>\n",
            "Hi\n"
          ]
        }
      ],
      "source": [
        "#Assignment No. 1 Reading and displaying image. Geometric transformations\n",
        "import cv2\n",
        "path = 'Lena.png'\n",
        "image = cv2.imread(path)\n",
        "print(type(image))\n",
        "print(\"Hi\")"
      ]
    },
    {
      "cell_type": "code",
      "source": [
        "#Assignment No. 2 Implement point processing operations"
      ],
      "metadata": {
        "id": "8ebsoQCHqLyI"
      },
      "execution_count": null,
      "outputs": []
    },
    {
      "cell_type": "code",
      "source": [
        "#Assignment No. 3 Histogram equalization"
      ],
      "metadata": {
        "id": "5RoafYplu4Ks"
      },
      "execution_count": null,
      "outputs": []
    },
    {
      "cell_type": "code",
      "source": [
        "#Assignment No. 4 Image Filtering - Spatial domain"
      ],
      "metadata": {
        "id": "Ggcjku1x0AoV"
      },
      "execution_count": null,
      "outputs": []
    },
    {
      "cell_type": "code",
      "source": [
        "#Assignment No. 5 Image Filtering - Frequency Domain"
      ],
      "metadata": {
        "id": "8y-wqerL0Jmd"
      },
      "execution_count": null,
      "outputs": []
    },
    {
      "cell_type": "code",
      "source": [
        "#Assignment No. 6 Color image processing - Gray level to color transformation"
      ],
      "metadata": {
        "id": "6dKfLteu0wSV"
      },
      "execution_count": null,
      "outputs": []
    },
    {
      "cell_type": "code",
      "source": [
        "#Assignment No. 7 Color image segmentation"
      ],
      "metadata": {
        "id": "SG6kyQ4C1DaA"
      },
      "execution_count": null,
      "outputs": []
    },
    {
      "cell_type": "code",
      "source": [
        "#Assignment No. 8 Point, line  and edge detection"
      ],
      "metadata": {
        "id": "3d60XUOw1MB8"
      },
      "execution_count": null,
      "outputs": []
    },
    {
      "cell_type": "code",
      "source": [
        "#Assignment No. 9 Hough transform for detecting lines and circles"
      ],
      "metadata": {
        "id": "Oq7oMys61XGF"
      },
      "execution_count": null,
      "outputs": []
    },
    {
      "cell_type": "code",
      "source": [
        "#Assignment No. 10 Segmentation using region growing algorithm"
      ],
      "metadata": {
        "id": "wlgno5Ap1jXb"
      },
      "execution_count": null,
      "outputs": []
    },
    {
      "cell_type": "code",
      "source": [
        "#Assignment No. 11 Implementation of morphological operations"
      ],
      "metadata": {
        "id": "IYlURyEi1qaz"
      },
      "execution_count": null,
      "outputs": []
    }
  ]
}